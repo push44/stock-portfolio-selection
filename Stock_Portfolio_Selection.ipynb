{
 "cells": [
  {
   "cell_type": "markdown",
   "metadata": {},
   "source": [
    "## Stock Market Portfolio Optimization"
   ]
  },
  {
   "cell_type": "markdown",
   "metadata": {},
   "source": [
    "### Gettting started with extracting and setting data for the analysis"
   ]
  },
  {
   "cell_type": "code",
   "execution_count": 1,
   "metadata": {},
   "outputs": [],
   "source": [
    "import quandl # For realtime and hisstoric stock data\n",
    "import pandas as pd\n",
    "import numpy as np\n",
    "import datetime\n",
    "import requests # To request web page\n",
    "import pickle # To save files\n",
    "import bs4 as bs # Web scrapping\n",
    "import os # To interact with os\n",
    "import matplotlib.pyplot as plt # Data visualization\n",
    "from matplotlib import style\n",
    "style.use('ggplot')\n",
    "from collections import defaultdict"
   ]
  },
  {
   "cell_type": "code",
   "execution_count": 122,
   "metadata": {},
   "outputs": [],
   "source": [
    "resp = requests.get('https://en.wikipedia.org/wiki/List_of_BSE_SENSEX_companies') # Get SENSEX BSE copanies tickers"
   ]
  },
  {
   "cell_type": "code",
   "execution_count": 123,
   "metadata": {},
   "outputs": [],
   "source": [
    "soup = bs.BeautifulSoup(resp.text, 'lxml') # Create beautiful soup object"
   ]
  },
  {
   "cell_type": "code",
   "execution_count": 124,
   "metadata": {},
   "outputs": [],
   "source": [
    "table = soup.find('table', {'class': 'wikitable sortable'}) # Find required table"
   ]
  },
  {
   "cell_type": "code",
   "execution_count": 125,
   "metadata": {},
   "outputs": [],
   "source": [
    "tickers = [] # Create a ticker list. With last element as SENSEX\n",
    "for row in table.findAll('tr')[1:]:\n",
    "    ticker = 'BOM'+row.findAll('td')[1].text\n",
    "    tickers.append(ticker[:-1])\n",
    "tickers.append('SENSEX')"
   ]
  },
  {
   "cell_type": "code",
   "execution_count": 126,
   "metadata": {},
   "outputs": [],
   "source": [
    "with open(\"BSE31.pickle\", \"wb\") as f: # Save list for further use\n",
    "        pickle.dump(tickers, f)"
   ]
  },
  {
   "cell_type": "code",
   "execution_count": 127,
   "metadata": {},
   "outputs": [],
   "source": [
    "with open(\"BSE31.pickle\", \"rb\") as f: # Read newly created file\n",
    "    tickers = pickle.load(f)"
   ]
  },
  {
   "cell_type": "code",
   "execution_count": 128,
   "metadata": {},
   "outputs": [],
   "source": [
    "quandl.ApiConfig.api_key = 'UyZqeLfZV1q12ZPYcuDy' # Get data from Quandl\n",
    "\n",
    "if not os.path.exists('stock_dfs'): # If such path doesn't exists in the pc then craete one folder\n",
    "    os.makedirs('stock_dfs')\n",
    "    \n",
    "for ticker in tickers:\n",
    "    if not os.path.exists('stock_dfs/{}.csv'.format(ticker)):\n",
    "        df = quandl.get('BSE/'+ticker, column_index = 4, start_date='2016-12-30', end_date='2018-12-31')\n",
    "        df.reset_index(inplace=True)\n",
    "        df.set_index(\"Date\", inplace=True)\n",
    "        df.rename(columns={'Close':ticker}, inplace=True)\n",
    "        df.to_csv('stock_dfs/{}.csv'.format(ticker)) # Save csv file for each comapny. With last one for SENSEX BSE  \n",
    "    else:\n",
    "        print('Already have {}'.format(ticker))"
   ]
  },
  {
   "cell_type": "code",
   "execution_count": 129,
   "metadata": {},
   "outputs": [],
   "source": [
    "with open(\"BSE31.pickle\",\"rb\") as f: # Read all files and create main data frame\n",
    "    tickers = pickle.load(f)\n",
    "\n",
    "main_df = pd.DataFrame()"
   ]
  },
  {
   "cell_type": "code",
   "execution_count": 130,
   "metadata": {},
   "outputs": [
    {
     "name": "stdout",
     "output_type": "stream",
     "text": [
      "0\n",
      "10\n",
      "20\n",
      "30\n"
     ]
    }
   ],
   "source": [
    "for count,ticker in enumerate(tickers):\n",
    "    df = pd.read_csv('stock_dfs/{}.csv'.format(ticker))\n",
    "    df.set_index('Date', inplace=True)\n",
    "    #df.rename(columns={'Close':ticker}, inplace=True)\n",
    "    if main_df.empty:\n",
    "        main_df = df\n",
    "    else:\n",
    "        main_df = main_df.join(df, how='outer')\n",
    "    \n",
    "    if count % 10 == 0:\n",
    "        print(count)\n",
    "        \n",
    "main_df.to_csv('BSE31_joined_closes.csv') # Create new csv file for main data frame"
   ]
  },
  {
   "cell_type": "markdown",
   "metadata": {},
   "source": [
    "### Data Preprocessing"
   ]
  },
  {
   "cell_type": "code",
   "execution_count": 72,
   "metadata": {
    "scrolled": false
   },
   "outputs": [],
   "source": [
    "from datetime import datetime\n",
    "df = pd.read_csv('BSE31_joined_closes.csv', header=None)\n",
    "df = df.drop(df.index[0]) # Drop the row of columns"
   ]
  },
  {
   "cell_type": "code",
   "execution_count": 73,
   "metadata": {},
   "outputs": [],
   "source": [
    "for i in range(len(df[0])):\n",
    "    df[0].iloc[i] = datetime.strptime(df[0].iloc[i], '%Y-%m-%d')"
   ]
  },
  {
   "cell_type": "code",
   "execution_count": 74,
   "metadata": {},
   "outputs": [],
   "source": [
    "df.set_index(0, inplace=True)\n",
    "df = df.astype(float) # Make each data entry float type"
   ]
  },
  {
   "cell_type": "code",
   "execution_count": 75,
   "metadata": {},
   "outputs": [],
   "source": [
    "df = df.pct_change()\n",
    "df = df.iloc[1:]"
   ]
  },
  {
   "cell_type": "code",
   "execution_count": 76,
   "metadata": {},
   "outputs": [],
   "source": [
    "df = df.groupby([df.index.year, df.index.month]).tail(1)"
   ]
  },
  {
   "cell_type": "code",
   "execution_count": 77,
   "metadata": {},
   "outputs": [],
   "source": [
    "df.rename(columns={32:'BSE_Index'}, inplace=True)"
   ]
  },
  {
   "cell_type": "code",
   "execution_count": 78,
   "metadata": {},
   "outputs": [],
   "source": [
    "df_train = df.iloc[:12]\n",
    "df_test = df.iloc[12:24]"
   ]
  },
  {
   "cell_type": "code",
   "execution_count": null,
   "metadata": {},
   "outputs": [],
   "source": []
  },
  {
   "cell_type": "code",
   "execution_count": 79,
   "metadata": {},
   "outputs": [],
   "source": [
    "x_bar = df_train.mean(axis = 1)"
   ]
  },
  {
   "cell_type": "code",
   "execution_count": 80,
   "metadata": {},
   "outputs": [
    {
     "name": "stderr",
     "output_type": "stream",
     "text": [
      "c:\\users\\pushk\\appdata\\local\\programs\\python\\python37\\lib\\site-packages\\ipykernel_launcher.py:1: SettingWithCopyWarning: \n",
      "A value is trying to be set on a copy of a slice from a DataFrame.\n",
      "Try using .loc[row_indexer,col_indexer] = value instead\n",
      "\n",
      "See the caveats in the documentation: http://pandas.pydata.org/pandas-docs/stable/indexing.html#indexing-view-versus-copy\n",
      "  \"\"\"Entry point for launching an IPython kernel.\n"
     ]
    }
   ],
   "source": [
    "df_train['x_bar'] = x_bar"
   ]
  },
  {
   "cell_type": "code",
   "execution_count": 85,
   "metadata": {},
   "outputs": [
    {
     "data": {
      "text/html": [
       "<div>\n",
       "<style scoped>\n",
       "    .dataframe tbody tr th:only-of-type {\n",
       "        vertical-align: middle;\n",
       "    }\n",
       "\n",
       "    .dataframe tbody tr th {\n",
       "        vertical-align: top;\n",
       "    }\n",
       "\n",
       "    .dataframe thead th {\n",
       "        text-align: right;\n",
       "    }\n",
       "</style>\n",
       "<table border=\"1\" class=\"dataframe\">\n",
       "  <thead>\n",
       "    <tr style=\"text-align: right;\">\n",
       "      <th></th>\n",
       "      <th>1</th>\n",
       "      <th>2</th>\n",
       "      <th>3</th>\n",
       "      <th>4</th>\n",
       "      <th>5</th>\n",
       "      <th>6</th>\n",
       "      <th>7</th>\n",
       "      <th>8</th>\n",
       "      <th>9</th>\n",
       "      <th>10</th>\n",
       "      <th>...</th>\n",
       "      <th>24</th>\n",
       "      <th>25</th>\n",
       "      <th>26</th>\n",
       "      <th>27</th>\n",
       "      <th>28</th>\n",
       "      <th>29</th>\n",
       "      <th>30</th>\n",
       "      <th>31</th>\n",
       "      <th>BSE_Index</th>\n",
       "      <th>x_bar</th>\n",
       "    </tr>\n",
       "    <tr>\n",
       "      <th>0</th>\n",
       "      <th></th>\n",
       "      <th></th>\n",
       "      <th></th>\n",
       "      <th></th>\n",
       "      <th></th>\n",
       "      <th></th>\n",
       "      <th></th>\n",
       "      <th></th>\n",
       "      <th></th>\n",
       "      <th></th>\n",
       "      <th></th>\n",
       "      <th></th>\n",
       "      <th></th>\n",
       "      <th></th>\n",
       "      <th></th>\n",
       "      <th></th>\n",
       "      <th></th>\n",
       "      <th></th>\n",
       "      <th></th>\n",
       "      <th></th>\n",
       "      <th></th>\n",
       "    </tr>\n",
       "  </thead>\n",
       "  <tbody>\n",
       "    <tr>\n",
       "      <th>2017-01-31</th>\n",
       "      <td>0.006749</td>\n",
       "      <td>-0.006342</td>\n",
       "      <td>0.011807</td>\n",
       "      <td>-0.009657</td>\n",
       "      <td>0.008137</td>\n",
       "      <td>-0.007991</td>\n",
       "      <td>0.009052</td>\n",
       "      <td>-0.029321</td>\n",
       "      <td>0.001912</td>\n",
       "      <td>0.009351</td>\n",
       "      <td>...</td>\n",
       "      <td>-0.003989</td>\n",
       "      <td>-0.013207</td>\n",
       "      <td>-0.037266</td>\n",
       "      <td>-0.009296</td>\n",
       "      <td>-0.005218</td>\n",
       "      <td>0.008392</td>\n",
       "      <td>-0.021543</td>\n",
       "      <td>0.011808</td>\n",
       "      <td>-0.006952</td>\n",
       "      <td>-0.007418</td>\n",
       "    </tr>\n",
       "    <tr>\n",
       "      <th>2017-02-28</th>\n",
       "      <td>0.023061</td>\n",
       "      <td>-0.005110</td>\n",
       "      <td>-0.015365</td>\n",
       "      <td>0.017234</td>\n",
       "      <td>0.026764</td>\n",
       "      <td>-0.024652</td>\n",
       "      <td>-0.003140</td>\n",
       "      <td>-0.000280</td>\n",
       "      <td>-0.010330</td>\n",
       "      <td>-0.001650</td>\n",
       "      <td>...</td>\n",
       "      <td>0.004112</td>\n",
       "      <td>0.006272</td>\n",
       "      <td>-0.008804</td>\n",
       "      <td>-0.002318</td>\n",
       "      <td>-0.002865</td>\n",
       "      <td>0.003940</td>\n",
       "      <td>0.013890</td>\n",
       "      <td>0.022000</td>\n",
       "      <td>-0.002414</td>\n",
       "      <td>-0.000196</td>\n",
       "    </tr>\n",
       "    <tr>\n",
       "      <th>2017-03-31</th>\n",
       "      <td>0.001111</td>\n",
       "      <td>-0.017245</td>\n",
       "      <td>-0.005375</td>\n",
       "      <td>-0.005966</td>\n",
       "      <td>-0.002709</td>\n",
       "      <td>0.008420</td>\n",
       "      <td>-0.015367</td>\n",
       "      <td>0.001123</td>\n",
       "      <td>-0.003080</td>\n",
       "      <td>-0.011048</td>\n",
       "      <td>...</td>\n",
       "      <td>0.008252</td>\n",
       "      <td>0.000087</td>\n",
       "      <td>-0.005890</td>\n",
       "      <td>-0.005944</td>\n",
       "      <td>0.000885</td>\n",
       "      <td>0.008698</td>\n",
       "      <td>0.002574</td>\n",
       "      <td>-0.002550</td>\n",
       "      <td>-0.000908</td>\n",
       "      <td>0.000713</td>\n",
       "    </tr>\n",
       "    <tr>\n",
       "      <th>2017-04-28</th>\n",
       "      <td>0.013959</td>\n",
       "      <td>0.005801</td>\n",
       "      <td>0.001296</td>\n",
       "      <td>-0.009190</td>\n",
       "      <td>-0.010772</td>\n",
       "      <td>0.006597</td>\n",
       "      <td>-0.017429</td>\n",
       "      <td>-0.001721</td>\n",
       "      <td>0.002696</td>\n",
       "      <td>-0.013724</td>\n",
       "      <td>...</td>\n",
       "      <td>0.025187</td>\n",
       "      <td>0.007378</td>\n",
       "      <td>-0.014145</td>\n",
       "      <td>0.002644</td>\n",
       "      <td>0.008336</td>\n",
       "      <td>0.005541</td>\n",
       "      <td>0.040057</td>\n",
       "      <td>-0.007206</td>\n",
       "      <td>-0.003708</td>\n",
       "      <td>0.001414</td>\n",
       "    </tr>\n",
       "    <tr>\n",
       "      <th>2017-05-31</th>\n",
       "      <td>-0.003876</td>\n",
       "      <td>0.004044</td>\n",
       "      <td>0.000408</td>\n",
       "      <td>0.003903</td>\n",
       "      <td>0.006761</td>\n",
       "      <td>-0.013011</td>\n",
       "      <td>0.003979</td>\n",
       "      <td>-0.000399</td>\n",
       "      <td>0.002099</td>\n",
       "      <td>-0.002380</td>\n",
       "      <td>...</td>\n",
       "      <td>0.000351</td>\n",
       "      <td>-0.012358</td>\n",
       "      <td>-0.001664</td>\n",
       "      <td>-0.009688</td>\n",
       "      <td>0.005052</td>\n",
       "      <td>-0.010141</td>\n",
       "      <td>-0.022875</td>\n",
       "      <td>-0.003960</td>\n",
       "      <td>-0.000436</td>\n",
       "      <td>-0.001216</td>\n",
       "    </tr>\n",
       "  </tbody>\n",
       "</table>\n",
       "<p>5 rows × 33 columns</p>\n",
       "</div>"
      ],
      "text/plain": [
       "                   1         2         3         4         5         6  \\\n",
       "0                                                                        \n",
       "2017-01-31  0.006749 -0.006342  0.011807 -0.009657  0.008137 -0.007991   \n",
       "2017-02-28  0.023061 -0.005110 -0.015365  0.017234  0.026764 -0.024652   \n",
       "2017-03-31  0.001111 -0.017245 -0.005375 -0.005966 -0.002709  0.008420   \n",
       "2017-04-28  0.013959  0.005801  0.001296 -0.009190 -0.010772  0.006597   \n",
       "2017-05-31 -0.003876  0.004044  0.000408  0.003903  0.006761 -0.013011   \n",
       "\n",
       "                   7         8         9        10  ...        24        25  \\\n",
       "0                                                   ...                       \n",
       "2017-01-31  0.009052 -0.029321  0.001912  0.009351  ... -0.003989 -0.013207   \n",
       "2017-02-28 -0.003140 -0.000280 -0.010330 -0.001650  ...  0.004112  0.006272   \n",
       "2017-03-31 -0.015367  0.001123 -0.003080 -0.011048  ...  0.008252  0.000087   \n",
       "2017-04-28 -0.017429 -0.001721  0.002696 -0.013724  ...  0.025187  0.007378   \n",
       "2017-05-31  0.003979 -0.000399  0.002099 -0.002380  ...  0.000351 -0.012358   \n",
       "\n",
       "                  26        27        28        29        30        31  \\\n",
       "0                                                                        \n",
       "2017-01-31 -0.037266 -0.009296 -0.005218  0.008392 -0.021543  0.011808   \n",
       "2017-02-28 -0.008804 -0.002318 -0.002865  0.003940  0.013890  0.022000   \n",
       "2017-03-31 -0.005890 -0.005944  0.000885  0.008698  0.002574 -0.002550   \n",
       "2017-04-28 -0.014145  0.002644  0.008336  0.005541  0.040057 -0.007206   \n",
       "2017-05-31 -0.001664 -0.009688  0.005052 -0.010141 -0.022875 -0.003960   \n",
       "\n",
       "            BSE_Index     x_bar  \n",
       "0                                \n",
       "2017-01-31  -0.006952 -0.007418  \n",
       "2017-02-28  -0.002414 -0.000196  \n",
       "2017-03-31  -0.000908  0.000713  \n",
       "2017-04-28  -0.003708  0.001414  \n",
       "2017-05-31  -0.000436 -0.001216  \n",
       "\n",
       "[5 rows x 33 columns]"
      ]
     },
     "execution_count": 85,
     "metadata": {},
     "output_type": "execute_result"
    }
   ],
   "source": [
    "df_train.head()"
   ]
  },
  {
   "cell_type": "code",
   "execution_count": 86,
   "metadata": {},
   "outputs": [
    {
     "name": "stderr",
     "output_type": "stream",
     "text": [
      "c:\\users\\pushk\\appdata\\local\\programs\\python\\python37\\lib\\site-packages\\ipykernel_launcher.py:2: SettingWithCopyWarning: \n",
      "A value is trying to be set on a copy of a slice from a DataFrame.\n",
      "Try using .loc[row_indexer,col_indexer] = value instead\n",
      "\n",
      "See the caveats in the documentation: http://pandas.pydata.org/pandas-docs/stable/indexing.html#indexing-view-versus-copy\n",
      "  \n"
     ]
    }
   ],
   "source": [
    "for i in df_train.columns[:-2]: # Except BSE_Index and x_bar column itself\n",
    "    df_train[i] = df_train[i] - df_train['x_bar']"
   ]
  },
  {
   "cell_type": "code",
   "execution_count": 87,
   "metadata": {},
   "outputs": [
    {
     "data": {
      "text/html": [
       "<div>\n",
       "<style scoped>\n",
       "    .dataframe tbody tr th:only-of-type {\n",
       "        vertical-align: middle;\n",
       "    }\n",
       "\n",
       "    .dataframe tbody tr th {\n",
       "        vertical-align: top;\n",
       "    }\n",
       "\n",
       "    .dataframe thead th {\n",
       "        text-align: right;\n",
       "    }\n",
       "</style>\n",
       "<table border=\"1\" class=\"dataframe\">\n",
       "  <thead>\n",
       "    <tr style=\"text-align: right;\">\n",
       "      <th></th>\n",
       "      <th>1</th>\n",
       "      <th>2</th>\n",
       "      <th>3</th>\n",
       "      <th>4</th>\n",
       "      <th>5</th>\n",
       "      <th>6</th>\n",
       "      <th>7</th>\n",
       "      <th>8</th>\n",
       "      <th>9</th>\n",
       "      <th>10</th>\n",
       "      <th>...</th>\n",
       "      <th>24</th>\n",
       "      <th>25</th>\n",
       "      <th>26</th>\n",
       "      <th>27</th>\n",
       "      <th>28</th>\n",
       "      <th>29</th>\n",
       "      <th>30</th>\n",
       "      <th>31</th>\n",
       "      <th>BSE_Index</th>\n",
       "      <th>x_bar</th>\n",
       "    </tr>\n",
       "    <tr>\n",
       "      <th>0</th>\n",
       "      <th></th>\n",
       "      <th></th>\n",
       "      <th></th>\n",
       "      <th></th>\n",
       "      <th></th>\n",
       "      <th></th>\n",
       "      <th></th>\n",
       "      <th></th>\n",
       "      <th></th>\n",
       "      <th></th>\n",
       "      <th></th>\n",
       "      <th></th>\n",
       "      <th></th>\n",
       "      <th></th>\n",
       "      <th></th>\n",
       "      <th></th>\n",
       "      <th></th>\n",
       "      <th></th>\n",
       "      <th></th>\n",
       "      <th></th>\n",
       "      <th></th>\n",
       "    </tr>\n",
       "  </thead>\n",
       "  <tbody>\n",
       "    <tr>\n",
       "      <th>2017-01-31</th>\n",
       "      <td>0.014167</td>\n",
       "      <td>0.001076</td>\n",
       "      <td>0.019225</td>\n",
       "      <td>-0.002239</td>\n",
       "      <td>0.015555</td>\n",
       "      <td>-0.000573</td>\n",
       "      <td>0.016470</td>\n",
       "      <td>-0.021904</td>\n",
       "      <td>0.009330</td>\n",
       "      <td>0.016769</td>\n",
       "      <td>...</td>\n",
       "      <td>0.003429</td>\n",
       "      <td>-0.005789</td>\n",
       "      <td>-0.029848</td>\n",
       "      <td>-0.001878</td>\n",
       "      <td>0.002200</td>\n",
       "      <td>0.015810</td>\n",
       "      <td>-0.014125</td>\n",
       "      <td>0.019226</td>\n",
       "      <td>-0.006952</td>\n",
       "      <td>-0.007418</td>\n",
       "    </tr>\n",
       "    <tr>\n",
       "      <th>2017-02-28</th>\n",
       "      <td>0.023257</td>\n",
       "      <td>-0.004913</td>\n",
       "      <td>-0.015169</td>\n",
       "      <td>0.017431</td>\n",
       "      <td>0.026960</td>\n",
       "      <td>-0.024456</td>\n",
       "      <td>-0.002943</td>\n",
       "      <td>-0.000083</td>\n",
       "      <td>-0.010133</td>\n",
       "      <td>-0.001454</td>\n",
       "      <td>...</td>\n",
       "      <td>0.004308</td>\n",
       "      <td>0.006468</td>\n",
       "      <td>-0.008607</td>\n",
       "      <td>-0.002122</td>\n",
       "      <td>-0.002668</td>\n",
       "      <td>0.004136</td>\n",
       "      <td>0.014086</td>\n",
       "      <td>0.022196</td>\n",
       "      <td>-0.002414</td>\n",
       "      <td>-0.000196</td>\n",
       "    </tr>\n",
       "    <tr>\n",
       "      <th>2017-03-31</th>\n",
       "      <td>0.000397</td>\n",
       "      <td>-0.017958</td>\n",
       "      <td>-0.006088</td>\n",
       "      <td>-0.006679</td>\n",
       "      <td>-0.003423</td>\n",
       "      <td>0.007707</td>\n",
       "      <td>-0.016080</td>\n",
       "      <td>0.000410</td>\n",
       "      <td>-0.003794</td>\n",
       "      <td>-0.011761</td>\n",
       "      <td>...</td>\n",
       "      <td>0.007539</td>\n",
       "      <td>-0.000626</td>\n",
       "      <td>-0.006603</td>\n",
       "      <td>-0.006657</td>\n",
       "      <td>0.000171</td>\n",
       "      <td>0.007985</td>\n",
       "      <td>0.001861</td>\n",
       "      <td>-0.003263</td>\n",
       "      <td>-0.000908</td>\n",
       "      <td>0.000713</td>\n",
       "    </tr>\n",
       "    <tr>\n",
       "      <th>2017-04-28</th>\n",
       "      <td>0.012545</td>\n",
       "      <td>0.004387</td>\n",
       "      <td>-0.000118</td>\n",
       "      <td>-0.010604</td>\n",
       "      <td>-0.012186</td>\n",
       "      <td>0.005183</td>\n",
       "      <td>-0.018842</td>\n",
       "      <td>-0.003135</td>\n",
       "      <td>0.001283</td>\n",
       "      <td>-0.015138</td>\n",
       "      <td>...</td>\n",
       "      <td>0.023773</td>\n",
       "      <td>0.005965</td>\n",
       "      <td>-0.015558</td>\n",
       "      <td>0.001230</td>\n",
       "      <td>0.006922</td>\n",
       "      <td>0.004128</td>\n",
       "      <td>0.038644</td>\n",
       "      <td>-0.008619</td>\n",
       "      <td>-0.003708</td>\n",
       "      <td>0.001414</td>\n",
       "    </tr>\n",
       "    <tr>\n",
       "      <th>2017-05-31</th>\n",
       "      <td>-0.002660</td>\n",
       "      <td>0.005261</td>\n",
       "      <td>0.001625</td>\n",
       "      <td>0.005119</td>\n",
       "      <td>0.007977</td>\n",
       "      <td>-0.011794</td>\n",
       "      <td>0.005195</td>\n",
       "      <td>0.000817</td>\n",
       "      <td>0.003315</td>\n",
       "      <td>-0.001163</td>\n",
       "      <td>...</td>\n",
       "      <td>0.001567</td>\n",
       "      <td>-0.011142</td>\n",
       "      <td>-0.000448</td>\n",
       "      <td>-0.008472</td>\n",
       "      <td>0.006269</td>\n",
       "      <td>-0.008924</td>\n",
       "      <td>-0.021659</td>\n",
       "      <td>-0.002743</td>\n",
       "      <td>-0.000436</td>\n",
       "      <td>-0.001216</td>\n",
       "    </tr>\n",
       "  </tbody>\n",
       "</table>\n",
       "<p>5 rows × 33 columns</p>\n",
       "</div>"
      ],
      "text/plain": [
       "                   1         2         3         4         5         6  \\\n",
       "0                                                                        \n",
       "2017-01-31  0.014167  0.001076  0.019225 -0.002239  0.015555 -0.000573   \n",
       "2017-02-28  0.023257 -0.004913 -0.015169  0.017431  0.026960 -0.024456   \n",
       "2017-03-31  0.000397 -0.017958 -0.006088 -0.006679 -0.003423  0.007707   \n",
       "2017-04-28  0.012545  0.004387 -0.000118 -0.010604 -0.012186  0.005183   \n",
       "2017-05-31 -0.002660  0.005261  0.001625  0.005119  0.007977 -0.011794   \n",
       "\n",
       "                   7         8         9        10  ...        24        25  \\\n",
       "0                                                   ...                       \n",
       "2017-01-31  0.016470 -0.021904  0.009330  0.016769  ...  0.003429 -0.005789   \n",
       "2017-02-28 -0.002943 -0.000083 -0.010133 -0.001454  ...  0.004308  0.006468   \n",
       "2017-03-31 -0.016080  0.000410 -0.003794 -0.011761  ...  0.007539 -0.000626   \n",
       "2017-04-28 -0.018842 -0.003135  0.001283 -0.015138  ...  0.023773  0.005965   \n",
       "2017-05-31  0.005195  0.000817  0.003315 -0.001163  ...  0.001567 -0.011142   \n",
       "\n",
       "                  26        27        28        29        30        31  \\\n",
       "0                                                                        \n",
       "2017-01-31 -0.029848 -0.001878  0.002200  0.015810 -0.014125  0.019226   \n",
       "2017-02-28 -0.008607 -0.002122 -0.002668  0.004136  0.014086  0.022196   \n",
       "2017-03-31 -0.006603 -0.006657  0.000171  0.007985  0.001861 -0.003263   \n",
       "2017-04-28 -0.015558  0.001230  0.006922  0.004128  0.038644 -0.008619   \n",
       "2017-05-31 -0.000448 -0.008472  0.006269 -0.008924 -0.021659 -0.002743   \n",
       "\n",
       "            BSE_Index     x_bar  \n",
       "0                                \n",
       "2017-01-31  -0.006952 -0.007418  \n",
       "2017-02-28  -0.002414 -0.000196  \n",
       "2017-03-31  -0.000908  0.000713  \n",
       "2017-04-28  -0.003708  0.001414  \n",
       "2017-05-31  -0.000436 -0.001216  \n",
       "\n",
       "[5 rows x 33 columns]"
      ]
     },
     "execution_count": 87,
     "metadata": {},
     "output_type": "execute_result"
    }
   ],
   "source": [
    "df_train.head()"
   ]
  },
  {
   "cell_type": "code",
   "execution_count": 88,
   "metadata": {},
   "outputs": [],
   "source": [
    "from gurobipy import *"
   ]
  },
  {
   "cell_type": "code",
   "execution_count": 90,
   "metadata": {},
   "outputs": [
    {
     "name": "stdout",
     "output_type": "stream",
     "text": [
      "Academic license - for non-commercial use only\n"
     ]
    }
   ],
   "source": [
    "m = Model()"
   ]
  },
  {
   "cell_type": "code",
   "execution_count": 128,
   "metadata": {},
   "outputs": [],
   "source": [
    "y = defaultdict()\n",
    "p = dict()"
   ]
  },
  {
   "cell_type": "code",
   "execution_count": 129,
   "metadata": {},
   "outputs": [],
   "source": [
    "for i in df_train.columns[:-2]:\n",
    "    for t in range(len(df_train.index)):\n",
    "        p[i,t] = df_train.iloc[t][i]\n",
    "        y[i,t] = m.addVar(vtype = GRB.CONTINUOUS, name = 'y{}{}'.format(i,t+1))\n",
    "        \n",
    "v = m.addVar(vtype=GRB.CONTINUOUS, name='v')"
   ]
  },
  {
   "cell_type": "code",
   "execution_count": 130,
   "metadata": {},
   "outputs": [],
   "source": [
    "for t in range(len(df_train.index)):\n",
    "    m.addConstr(quicksum(y[i,t] for i in df_train.columns[:-2]) == 1)\n",
    "    m.addConstr(quicksum(y[i,t]*p[i,t] for i in df_train.columns[:-2]) >= v)"
   ]
  },
  {
   "cell_type": "code",
   "execution_count": 131,
   "metadata": {},
   "outputs": [
    {
     "name": "stdout",
     "output_type": "stream",
     "text": [
      "Optimize a model with 83 rows, 2256 columns and 2608 nonzeros\n",
      "Model has 13 quadratic constraints\n",
      "Coefficient statistics:\n",
      "  Matrix range     [3e-05, 1e+00]\n",
      "  QMatrix range    [1e+00, 1e+00]\n",
      "  QLMatrix range   [1e+00, 1e+00]\n",
      "  Objective range  [1e+00, 1e+00]\n",
      "  Bounds range     [0e+00, 0e+00]\n",
      "  RHS range        [1e+00, 1e+00]\n",
      "Presolve removed 23 rows and 765 columns\n"
     ]
    },
    {
     "ename": "GurobiError",
     "evalue": "Q matrix is not positive semi-definite (PSD)",
     "output_type": "error",
     "traceback": [
      "\u001b[1;31m---------------------------------------------------------------------------\u001b[0m",
      "\u001b[1;31mGurobiError\u001b[0m                               Traceback (most recent call last)",
      "\u001b[1;32m<ipython-input-131-ff2e1faf1c38>\u001b[0m in \u001b[0;36m<module>\u001b[1;34m\u001b[0m\n\u001b[0;32m      1\u001b[0m \u001b[0mm\u001b[0m\u001b[1;33m.\u001b[0m\u001b[0msetObjective\u001b[0m\u001b[1;33m(\u001b[0m\u001b[0mv\u001b[0m\u001b[1;33m,\u001b[0m\u001b[0mGRB\u001b[0m\u001b[1;33m.\u001b[0m\u001b[0mMAXIMIZE\u001b[0m\u001b[1;33m)\u001b[0m\u001b[1;33m\u001b[0m\u001b[1;33m\u001b[0m\u001b[0m\n\u001b[1;32m----> 2\u001b[1;33m \u001b[0mm\u001b[0m\u001b[1;33m.\u001b[0m\u001b[0moptimize\u001b[0m\u001b[1;33m(\u001b[0m\u001b[1;33m)\u001b[0m\u001b[1;33m\u001b[0m\u001b[1;33m\u001b[0m\u001b[0m\n\u001b[0m",
      "\u001b[1;32mmodel.pxi\u001b[0m in \u001b[0;36mgurobipy.Model.optimize\u001b[1;34m()\u001b[0m\n",
      "\u001b[1;31mGurobiError\u001b[0m: Q matrix is not positive semi-definite (PSD)"
     ]
    }
   ],
   "source": [
    "m.setObjective(v,GRB.MAXIMIZE)\n",
    "m.optimize()"
   ]
  },
  {
   "cell_type": "code",
   "execution_count": null,
   "metadata": {},
   "outputs": [],
   "source": []
  },
  {
   "cell_type": "markdown",
   "metadata": {},
   "source": [
    "Old Method"
   ]
  },
  {
   "cell_type": "code",
   "execution_count": 100,
   "metadata": {},
   "outputs": [],
   "source": [
    "EOD_R = df_train.pct_change() # Create new data frame for percentage change of closing values"
   ]
  },
  {
   "cell_type": "code",
   "execution_count": 101,
   "metadata": {},
   "outputs": [
    {
     "data": {
      "text/html": [
       "<div>\n",
       "<style scoped>\n",
       "    .dataframe tbody tr th:only-of-type {\n",
       "        vertical-align: middle;\n",
       "    }\n",
       "\n",
       "    .dataframe tbody tr th {\n",
       "        vertical-align: top;\n",
       "    }\n",
       "\n",
       "    .dataframe thead th {\n",
       "        text-align: right;\n",
       "    }\n",
       "</style>\n",
       "<table border=\"1\" class=\"dataframe\">\n",
       "  <thead>\n",
       "    <tr style=\"text-align: right;\">\n",
       "      <th></th>\n",
       "      <th>1</th>\n",
       "      <th>2</th>\n",
       "      <th>3</th>\n",
       "      <th>4</th>\n",
       "      <th>5</th>\n",
       "      <th>6</th>\n",
       "      <th>7</th>\n",
       "      <th>8</th>\n",
       "      <th>9</th>\n",
       "      <th>10</th>\n",
       "      <th>...</th>\n",
       "      <th>23</th>\n",
       "      <th>24</th>\n",
       "      <th>25</th>\n",
       "      <th>26</th>\n",
       "      <th>27</th>\n",
       "      <th>28</th>\n",
       "      <th>29</th>\n",
       "      <th>30</th>\n",
       "      <th>31</th>\n",
       "      <th>32</th>\n",
       "    </tr>\n",
       "  </thead>\n",
       "  <tbody>\n",
       "    <tr>\n",
       "      <th>1</th>\n",
       "      <td>1142.85</td>\n",
       "      <td>559.7</td>\n",
       "      <td>3294.15</td>\n",
       "      <td>1722.10</td>\n",
       "      <td>516.30</td>\n",
       "      <td>270.35</td>\n",
       "      <td>1872.70</td>\n",
       "      <td>891.70</td>\n",
       "      <td>3747.45</td>\n",
       "      <td>1339.45</td>\n",
       "      <td>...</td>\n",
       "      <td>911.40</td>\n",
       "      <td>302.9</td>\n",
       "      <td>571.50</td>\n",
       "      <td>2633.75</td>\n",
       "      <td>438.85</td>\n",
       "      <td>252.95</td>\n",
       "      <td>729.10</td>\n",
       "      <td>327.50</td>\n",
       "      <td>311.65</td>\n",
       "      <td>33812.26</td>\n",
       "    </tr>\n",
       "    <tr>\n",
       "      <th>5</th>\n",
       "      <td>1206.50</td>\n",
       "      <td>532.4</td>\n",
       "      <td>2971.90</td>\n",
       "      <td>1876.20</td>\n",
       "      <td>404.40</td>\n",
       "      <td>277.45</td>\n",
       "      <td>1967.55</td>\n",
       "      <td>926.10</td>\n",
       "      <td>3657.10</td>\n",
       "      <td>1454.85</td>\n",
       "      <td>...</td>\n",
       "      <td>962.60</td>\n",
       "      <td>241.8</td>\n",
       "      <td>534.50</td>\n",
       "      <td>3482.65</td>\n",
       "      <td>333.45</td>\n",
       "      <td>187.30</td>\n",
       "      <td>585.65</td>\n",
       "      <td>286.35</td>\n",
       "      <td>354.00</td>\n",
       "      <td>35103.14</td>\n",
       "    </tr>\n",
       "    <tr>\n",
       "      <th>9</th>\n",
       "      <td>1312.05</td>\n",
       "      <td>640.5</td>\n",
       "      <td>2731.95</td>\n",
       "      <td>2750.95</td>\n",
       "      <td>377.75</td>\n",
       "      <td>279.95</td>\n",
       "      <td>2052.00</td>\n",
       "      <td>1076.45</td>\n",
       "      <td>3185.75</td>\n",
       "      <td>1651.40</td>\n",
       "      <td>...</td>\n",
       "      <td>1242.35</td>\n",
       "      <td>296.6</td>\n",
       "      <td>654.15</td>\n",
       "      <td>2093.20</td>\n",
       "      <td>262.05</td>\n",
       "      <td>142.65</td>\n",
       "      <td>593.05</td>\n",
       "      <td>224.45</td>\n",
       "      <td>334.10</td>\n",
       "      <td>38157.92</td>\n",
       "    </tr>\n",
       "  </tbody>\n",
       "</table>\n",
       "<p>3 rows × 32 columns</p>\n",
       "</div>"
      ],
      "text/plain": [
       "        1      2        3        4       5       6        7        8   \\\n",
       "1  1142.85  559.7  3294.15  1722.10  516.30  270.35  1872.70   891.70   \n",
       "5  1206.50  532.4  2971.90  1876.20  404.40  277.45  1967.55   926.10   \n",
       "9  1312.05  640.5  2731.95  2750.95  377.75  279.95  2052.00  1076.45   \n",
       "\n",
       "        9        10  ...       23     24      25       26      27      28  \\\n",
       "1  3747.45  1339.45  ...   911.40  302.9  571.50  2633.75  438.85  252.95   \n",
       "5  3657.10  1454.85  ...   962.60  241.8  534.50  3482.65  333.45  187.30   \n",
       "9  3185.75  1651.40  ...  1242.35  296.6  654.15  2093.20  262.05  142.65   \n",
       "\n",
       "       29      30      31        32  \n",
       "1  729.10  327.50  311.65  33812.26  \n",
       "5  585.65  286.35  354.00  35103.14  \n",
       "9  593.05  224.45  334.10  38157.92  \n",
       "\n",
       "[3 rows x 32 columns]"
      ]
     },
     "execution_count": 101,
     "metadata": {},
     "output_type": "execute_result"
    }
   ],
   "source": [
    "df2018Q = pd.DataFrame(columns=range(1,33))\n",
    "for i in [1,5,9]:\n",
    "    df2018Q.loc[i] = df.iloc[months[i]]\n",
    "df2018Q"
   ]
  },
  {
   "cell_type": "code",
   "execution_count": 102,
   "metadata": {},
   "outputs": [],
   "source": [
    "k = defaultdict(lambda: defaultdict(int)) # Create parameter dictionary for the LP Model\n",
    "for t in range(1,13):\n",
    "    for j in range(1,32):\n",
    "        k[j][t] = (EOD_R[j].iloc[t] - EOD_R[32].iloc[t]).round(6)"
   ]
  },
  {
   "cell_type": "markdown",
   "metadata": {},
   "source": [
    "### Optimization"
   ]
  },
  {
   "cell_type": "code",
   "execution_count": 103,
   "metadata": {},
   "outputs": [],
   "source": [
    "from gurobipy import * # Import gurobi"
   ]
  },
  {
   "cell_type": "code",
   "execution_count": 104,
   "metadata": {
    "scrolled": true
   },
   "outputs": [
    {
     "name": "stdout",
     "output_type": "stream",
     "text": [
      "Optimize a model with 5 rows, 32 columns and 159 nonzeros\n",
      "Coefficient statistics:\n",
      "  Matrix range     [2e-04, 1e+00]\n",
      "  Objective range  [1e+00, 1e+00]\n",
      "  Bounds range     [0e+00, 0e+00]\n",
      "  RHS range        [1e+00, 1e+00]\n",
      "Presolve removed 0 rows and 1 columns\n",
      "Presolve time: 0.01s\n",
      "Presolved: 5 rows, 31 columns, 154 nonzeros\n",
      "\n",
      "Iteration    Objective       Primal Inf.    Dual Inf.      Time\n",
      "       0    1.0000000e+30   4.000000e+30   1.000000e+00      0s\n",
      "       9    2.7766419e-02   0.000000e+00   0.000000e+00      0s\n",
      "\n",
      "Solved in 9 iterations and 0.01 seconds\n",
      "Optimal objective  2.776641884e-02\n",
      "Optimize a model with 5 rows, 32 columns and 159 nonzeros\n",
      "Coefficient statistics:\n",
      "  Matrix range     [1e-03, 1e+00]\n",
      "  Objective range  [1e+00, 1e+00]\n",
      "  Bounds range     [0e+00, 0e+00]\n",
      "  RHS range        [1e+00, 1e+00]\n",
      "Presolve removed 0 rows and 9 columns\n",
      "Presolve time: 0.01s\n",
      "Presolved: 5 rows, 23 columns, 114 nonzeros\n",
      "\n",
      "Iteration    Objective       Primal Inf.    Dual Inf.      Time\n",
      "       0    1.0000000e+30   4.000000e+30   1.000000e+00      0s\n",
      "       8    3.6022540e-02   0.000000e+00   0.000000e+00      0s\n",
      "\n",
      "Solved in 8 iterations and 0.01 seconds\n",
      "Optimal objective  3.602254029e-02\n",
      "Optimize a model with 5 rows, 32 columns and 159 nonzeros\n",
      "Coefficient statistics:\n",
      "  Matrix range     [1e-03, 1e+00]\n",
      "  Objective range  [1e+00, 1e+00]\n",
      "  Bounds range     [0e+00, 0e+00]\n",
      "  RHS range        [1e+00, 1e+00]\n",
      "Presolve removed 0 rows and 2 columns\n",
      "Presolve time: 0.01s\n",
      "Presolved: 5 rows, 30 columns, 149 nonzeros\n",
      "\n",
      "Iteration    Objective       Primal Inf.    Dual Inf.      Time\n",
      "       0    1.0000000e+30   4.000000e+30   1.000000e+00      0s\n",
      "       9    2.8265011e-02   0.000000e+00   0.000000e+00      0s\n",
      "\n",
      "Solved in 9 iterations and 0.01 seconds\n",
      "Optimal objective  2.826501137e-02\n",
      "Length 96 List: [0.0, 0.0, 0.0, 0.085159182399562, 0.0, 0.0, 0.0, 0.20444435681615492, 0.0, 0.0, 0.0, 0.0, 0.0, 0.529147327414163, 0.0, 0.0, 0.0, 0.0, 0.18124913337012005, 0.0, 0.0, 0.0, 0.0, 0.0, 0.0, 0.0, 0.0, 0.0, 0.0, 0.0, 0.0, 0.027766418841060757, 0.0, 0.0, 0.0, 0.38919811459010023, 0.0, 0.0, 0.0, 0.0, 0.0, 0.0, 0.0, 0.0, 0.0, 0.0, 0.0, 0.144669397439681, 0.0, 0.01919927205575975, 0.0, 0.0, 0.0, 0.0, 0.0, 0.0, 0.0, 0.0, 0.0, 0.0, 0.0, 0.0, 0.44693321591445895, 0.036022540286177795, 0.0, 0.1977002296704607, 0.0, 0.0, 0.0, 0.0, 0.0, 0.3148725742633948, 0.0, 0.4188720532389724, 0.0, 0.06855514282717207, 0.0, 0.0, 0.0, 0.0, 0.0, 0.0, 0.0, 0.0, 0.0, 0.0, 0.0, 0.0, 0.0, 0.0, 0.0, 0.0, 0.0, 0.0, 0.0, 0.02826501136967645]\n",
      "\n",
      "ROI 9.2053970496915\n"
     ]
    }
   ],
   "source": [
    "ROI = 0 # Initialize return on investment\n",
    "\n",
    "xList = list() # Create list to save results of the decision variables\n",
    "\n",
    "for s in [1,5,9]: # Trimester\n",
    "    #for t in range(1,13):\n",
    "    x = dict()\n",
    "    #n_inf = float(\"-inf\")\n",
    "    m = Model()\n",
    "\n",
    "    for i in range(1,32):\n",
    "        x[i] = m.addVar(vtype=GRB.CONTINUOUS, name='x%d'%i)\n",
    "\n",
    "    v = m.addVar(vtype = GRB.CONTINUOUS)\n",
    "\n",
    "    m.update()\n",
    "\n",
    "    for t in range(s,s+4):\n",
    "        #for t in range(1,13):\n",
    "        m.addConstr(quicksum(x[i]*k[i][t] for i in range(1,32)) >= v)\n",
    "\n",
    "    m.addConstr(quicksum(x[i] for i in range(1,32)) <= 1)\n",
    "    #m.update()\n",
    "\n",
    "    m.setObjective(v,GRB.MAXIMIZE)\n",
    "    m.optimize()\n",
    "    \n",
    "    m.write(\"gurobipro.lp\")\n",
    "    ROI += m.objVal\n",
    "\n",
    "    xList+= m.x\n",
    "    \n",
    "print('Length',len(xList),'List:',xList)\n",
    "print('\\nROI',ROI*100)"
   ]
  },
  {
   "cell_type": "markdown",
   "metadata": {},
   "source": [
    "The optimal ROI value obtained was 9.2053970496915% profit"
   ]
  },
  {
   "cell_type": "markdown",
   "metadata": {},
   "source": [
    "### Post Processing and Data Visualzation"
   ]
  },
  {
   "cell_type": "code",
   "execution_count": 113,
   "metadata": {},
   "outputs": [],
   "source": [
    "#chunks = [xList[x:x+32] for x in [0,32,64]] # Divide list into three parts\n",
    "X = defaultdict(lambda:defaultdict(int))"
   ]
  },
  {
   "cell_type": "code",
   "execution_count": 106,
   "metadata": {},
   "outputs": [],
   "source": [
    "for i in range(1,32):\n",
    "    for t in range(1,4):\n",
    "        X[i][t] = chunks[t-1][1:32][i-1]\n",
    "#X"
   ]
  },
  {
   "cell_type": "code",
   "execution_count": 107,
   "metadata": {
    "scrolled": false
   },
   "outputs": [],
   "source": [
    "StkPort = pd.DataFrame(X) # Create new data frame for trimester investment"
   ]
  },
  {
   "cell_type": "code",
   "execution_count": 108,
   "metadata": {},
   "outputs": [],
   "source": [
    "d_portList = list() # d_porstList is the list of expected outcome\n",
    "for t in range(1,4):\n",
    "    d_port = 0\n",
    "    for i in range(1,32):\n",
    "        d_port += X[i][t]*df[i][t]\n",
    "    d_portList.append(d_port)"
   ]
  },
  {
   "cell_type": "code",
   "execution_count": 109,
   "metadata": {},
   "outputs": [],
   "source": [
    "#print(d_portList)\n",
    "non_zero_count = list()"
   ]
  },
  {
   "cell_type": "code",
   "execution_count": 110,
   "metadata": {
    "scrolled": true
   },
   "outputs": [],
   "source": [
    "for i in range(1,32):\n",
    "    non_zero_count.append(np.count_nonzero(StkPort[i]!=0)) # Count the number of non-zero investments for each company"
   ]
  },
  {
   "cell_type": "code",
   "execution_count": 111,
   "metadata": {},
   "outputs": [
    {
     "data": {
      "text/plain": [
       "30"
      ]
     },
     "execution_count": 111,
     "metadata": {},
     "output_type": "execute_result"
    }
   ],
   "source": [
    "np.argmax(non_zero_count)"
   ]
  },
  {
   "cell_type": "code",
   "execution_count": 112,
   "metadata": {},
   "outputs": [],
   "source": [
    "#print(non_zero_count)"
   ]
  },
  {
   "cell_type": "code",
   "execution_count": 113,
   "metadata": {},
   "outputs": [
    {
     "data": {
      "text/plain": [
       "Text(0, 0.5, 'List of companies')"
      ]
     },
     "execution_count": 113,
     "metadata": {},
     "output_type": "execute_result"
    },
    {
     "data": {
      "image/png": "[encoded data removed]",
      "text/plain": [
       "<Figure size 432x288 with 1 Axes>"
      ]
     },
     "metadata": {},
     "output_type": "display_data"
    }
   ],
   "source": [
    "width = 0.8\n",
    "plt.barh(tickers[:-1], non_zero_count, width)\n",
    "#plt.ylim([0,36])\n",
    "plt.xlabel('Number of times invested')\n",
    "plt.ylabel('List of companies')\n",
    "#plt.axes([1,2,3,4])"
   ]
  },
  {
   "cell_type": "markdown",
   "metadata": {},
   "source": [
    "Above graph shows that BOM532648 has been invested three times over the investment period"
   ]
  },
  {
   "cell_type": "code",
   "execution_count": 114,
   "metadata": {},
   "outputs": [],
   "source": [
    "T1 = chunks[0][1:]\n",
    "T2 = chunks[1][1:]\n",
    "T3 = chunks[2][1:]"
   ]
  },
  {
   "cell_type": "code",
   "execution_count": 115,
   "metadata": {},
   "outputs": [
    {
     "data": {
      "text/plain": [
       "<matplotlib.legend.Legend at 0x1d39de323c8>"
      ]
     },
     "execution_count": 115,
     "metadata": {},
     "output_type": "execute_result"
    },
    {
     "data": {
      "image/png": "[encoded data removed]",
      "text/plain": [
       "<Figure size 432x288 with 1 Axes>"
      ]
     },
     "metadata": {},
     "output_type": "display_data"
    }
   ],
   "source": [
    "x = np.arange(1,32)\n",
    "ax = plt.subplot(111)\n",
    "w = 0.6\n",
    "ax.bar(x-w, T1, width=w, color='b', align='center', label = 'T1')\n",
    "ax.bar(x, T2, width=w, color='g', align='center', label = 'T2')\n",
    "ax.bar(x+w, T3, width=w, color='r', align='center', label = 'T2')\n",
    "plt.xlabel('Companies')\n",
    "plt.ylabel('Percentage Share')\n",
    "plt.xticks(list(range(1,32)))\n",
    "#plt.set_xticklabels(tickers[:-1:])\n",
    "plt.legend()"
   ]
  },
  {
   "cell_type": "markdown",
   "metadata": {},
   "source": [
    "Above graph shows companies in which model has invested for each trimester"
   ]
  },
  {
   "cell_type": "code",
   "execution_count": 116,
   "metadata": {},
   "outputs": [],
   "source": [
    "s_portList = list()"
   ]
  },
  {
   "cell_type": "code",
   "execution_count": 117,
   "metadata": {},
   "outputs": [],
   "source": [
    "s_port = d_portList[0]\n",
    "s_portList.append(s_port)"
   ]
  },
  {
   "cell_type": "code",
   "execution_count": 118,
   "metadata": {},
   "outputs": [],
   "source": [
    "for i in range(1,4):\n",
    "    s_port += d_portList[i-1]\n",
    "    s_portList.append(s_port)"
   ]
  },
  {
   "cell_type": "code",
   "execution_count": 119,
   "metadata": {},
   "outputs": [],
   "source": [
    "#print(s_portList)"
   ]
  },
  {
   "cell_type": "code",
   "execution_count": 120,
   "metadata": {},
   "outputs": [
    {
     "data": {
      "text/html": [
       "<div>\n",
       "<style scoped>\n",
       "    .dataframe tbody tr th:only-of-type {\n",
       "        vertical-align: middle;\n",
       "    }\n",
       "\n",
       "    .dataframe tbody tr th {\n",
       "        vertical-align: top;\n",
       "    }\n",
       "\n",
       "    .dataframe thead th {\n",
       "        text-align: right;\n",
       "    }\n",
       "</style>\n",
       "<table border=\"1\" class=\"dataframe\">\n",
       "  <thead>\n",
       "    <tr style=\"text-align: right;\">\n",
       "      <th></th>\n",
       "      <th>1</th>\n",
       "      <th>2</th>\n",
       "      <th>3</th>\n",
       "      <th>4</th>\n",
       "      <th>5</th>\n",
       "      <th>6</th>\n",
       "      <th>7</th>\n",
       "      <th>8</th>\n",
       "      <th>9</th>\n",
       "      <th>10</th>\n",
       "      <th>...</th>\n",
       "      <th>23</th>\n",
       "      <th>24</th>\n",
       "      <th>25</th>\n",
       "      <th>26</th>\n",
       "      <th>27</th>\n",
       "      <th>28</th>\n",
       "      <th>29</th>\n",
       "      <th>30</th>\n",
       "      <th>31</th>\n",
       "      <th>32</th>\n",
       "    </tr>\n",
       "  </thead>\n",
       "  <tbody>\n",
       "    <tr>\n",
       "      <th>1</th>\n",
       "      <td>NaN</td>\n",
       "      <td>NaN</td>\n",
       "      <td>NaN</td>\n",
       "      <td>NaN</td>\n",
       "      <td>NaN</td>\n",
       "      <td>NaN</td>\n",
       "      <td>NaN</td>\n",
       "      <td>NaN</td>\n",
       "      <td>NaN</td>\n",
       "      <td>NaN</td>\n",
       "      <td>...</td>\n",
       "      <td>NaN</td>\n",
       "      <td>NaN</td>\n",
       "      <td>NaN</td>\n",
       "      <td>NaN</td>\n",
       "      <td>NaN</td>\n",
       "      <td>NaN</td>\n",
       "      <td>NaN</td>\n",
       "      <td>NaN</td>\n",
       "      <td>NaN</td>\n",
       "      <td>NaN</td>\n",
       "    </tr>\n",
       "    <tr>\n",
       "      <th>5</th>\n",
       "      <td>0.055694</td>\n",
       "      <td>-0.048776</td>\n",
       "      <td>-0.097825</td>\n",
       "      <td>0.089484</td>\n",
       "      <td>-0.216734</td>\n",
       "      <td>0.026262</td>\n",
       "      <td>0.050649</td>\n",
       "      <td>0.038578</td>\n",
       "      <td>-0.024110</td>\n",
       "      <td>0.086155</td>\n",
       "      <td>...</td>\n",
       "      <td>0.056177</td>\n",
       "      <td>-0.201717</td>\n",
       "      <td>-0.064742</td>\n",
       "      <td>0.322316</td>\n",
       "      <td>-0.240173</td>\n",
       "      <td>-0.259537</td>\n",
       "      <td>-0.196749</td>\n",
       "      <td>-0.125649</td>\n",
       "      <td>0.135890</td>\n",
       "      <td>0.038178</td>\n",
       "    </tr>\n",
       "    <tr>\n",
       "      <th>9</th>\n",
       "      <td>0.087484</td>\n",
       "      <td>0.203043</td>\n",
       "      <td>-0.080740</td>\n",
       "      <td>0.466235</td>\n",
       "      <td>-0.065900</td>\n",
       "      <td>0.009011</td>\n",
       "      <td>0.042921</td>\n",
       "      <td>0.162347</td>\n",
       "      <td>-0.128886</td>\n",
       "      <td>0.135100</td>\n",
       "      <td>...</td>\n",
       "      <td>0.290619</td>\n",
       "      <td>0.226634</td>\n",
       "      <td>0.223854</td>\n",
       "      <td>-0.398963</td>\n",
       "      <td>-0.214125</td>\n",
       "      <td>-0.238388</td>\n",
       "      <td>0.012636</td>\n",
       "      <td>-0.216169</td>\n",
       "      <td>-0.056215</td>\n",
       "      <td>0.087023</td>\n",
       "    </tr>\n",
       "  </tbody>\n",
       "</table>\n",
       "<p>3 rows × 32 columns</p>\n",
       "</div>"
      ],
      "text/plain": [
       "         1         2         3         4         5         6         7   \\\n",
       "1       NaN       NaN       NaN       NaN       NaN       NaN       NaN   \n",
       "5  0.055694 -0.048776 -0.097825  0.089484 -0.216734  0.026262  0.050649   \n",
       "9  0.087484  0.203043 -0.080740  0.466235 -0.065900  0.009011  0.042921   \n",
       "\n",
       "         8         9         10  ...        23        24        25        26  \\\n",
       "1       NaN       NaN       NaN  ...       NaN       NaN       NaN       NaN   \n",
       "5  0.038578 -0.024110  0.086155  ...  0.056177 -0.201717 -0.064742  0.322316   \n",
       "9  0.162347 -0.128886  0.135100  ...  0.290619  0.226634  0.223854 -0.398963   \n",
       "\n",
       "         27        28        29        30        31        32  \n",
       "1       NaN       NaN       NaN       NaN       NaN       NaN  \n",
       "5 -0.240173 -0.259537 -0.196749 -0.125649  0.135890  0.038178  \n",
       "9 -0.214125 -0.238388  0.012636 -0.216169 -0.056215  0.087023  \n",
       "\n",
       "[3 rows x 32 columns]"
      ]
     },
     "execution_count": 120,
     "metadata": {},
     "output_type": "execute_result"
    }
   ],
   "source": [
    "Q_pct_change = df2018Q.pct_change()\n",
    "Q_pct_change"
   ]
  },
  {
   "cell_type": "code",
   "execution_count": 121,
   "metadata": {},
   "outputs": [
    {
     "data": {
      "text/plain": [
       "[1174.7250679791641, 1219.573566593363, 1325.704497893471]"
      ]
     },
     "execution_count": 121,
     "metadata": {},
     "output_type": "execute_result"
    }
   ],
   "source": [
    "BSE_TRENDList = list()\n",
    "BSE_TREND = 1174.7250679791641\n",
    "BSE_TRENDList.append(BSE_TREND)\n",
    "for i in [1,2]:\n",
    "    BSE_TREND *= 1+Q_pct_change[32].iloc[i]\n",
    "    BSE_TRENDList.append(BSE_TREND)\n",
    "BSE_TRENDList"
   ]
  },
  {
   "cell_type": "code",
   "execution_count": 122,
   "metadata": {},
   "outputs": [
    {
     "name": "stdout",
     "output_type": "stream",
     "text": [
      "{1: [1174.7250679791641, 1240.150321141761, 1348.6442012880625], 2: [1174.7250679791641, 1117.4265252672983, 1344.311963624539], 3: [1174.7250679791641, 1059.8076679954702, 974.2392269525302], 4: [1174.7250679791641, 1279.8438955592055, 1876.55184121554], 5: [1174.7250679791641, 920.1216685856556, 859.4855596148157], 6: [1174.7250679791641, 1205.5759944916554, 1216.4389967847862], 7: [1174.7250679791641, 1234.2234781344605, 1287.198077371306], 8: [1174.7250679791641, 1220.0436082264257, 1418.1146118943268], 9: [1174.7250679791641, 1146.4027661760933, 998.6471828348937], 10: [1174.7250679791641, 1275.933230168716, 1448.3116034646994], 11: [1174.7250679791641, 1327.1518658189448, 1349.3412321334067], 12: [1174.7250679791641, 1070.4527862781842, 1247.0888918918663], 13: [1174.7250679791641, 1342.0375362138382, 1323.4909383894478], 14: [1174.7250679791641, 1348.566121021054, 839.4235029226538], 15: [1174.7250679791641, 1279.6152541600973, 1393.959062271501], 16: [1174.7250679791641, 1445.1485127124486, 1475.9636626105653], 17: [1174.7250679791641, 1298.0660276024669, 1278.5515410436903], 18: [1174.7250679791641, 1347.304278962681, 1454.3954944621769], 19: [1174.7250679791641, 1077.6225521846968, 1092.083319745977], 20: [1174.7250679791641, 1146.137353038133, 1103.4200778388906], 21: [1174.7250679791641, 1077.800557419827, 1039.6272117226115], 22: [1174.7250679791641, 1209.8701709852721, 1135.7725788140608], 23: [1174.7250679791641, 1240.7179618573002, 1601.2943693262173], 24: [1174.7250679791641, 937.7633589876591, 1150.2920276085183], 25: [1174.7250679791641, 1098.6711265701892, 1344.6131289913737], 26: [1174.7250679791641, 1553.3578578064114, 933.6248741505404], 27: [1174.7250679791641, 892.5876128919955, 701.4622400910105], 28: [1174.7250679791641, 869.8399099920833, 662.4808497617228], 29: [1174.7250679791641, 943.5985956137669, 955.521466966182], 30: [1174.7250679791641, 1027.122208292622, 805.0902030776286], 31: [1174.7250679791641, 1334.3580107961627, 1259.3474898502768]}\n"
     ]
    }
   ],
   "source": [
    "comp = dict()\n",
    "for j in range(1,32):\n",
    "    perform = [1174.7250679791641]\n",
    "    p = 1174.7250679791641\n",
    "    for i in [1,2]:\n",
    "        p *= 1+Q_pct_change[j].iloc[i]\n",
    "        perform.append(p)\n",
    "    comp[j] = perform\n",
    "print(comp)"
   ]
  },
  {
   "cell_type": "code",
   "execution_count": 123,
   "metadata": {},
   "outputs": [
    {
     "data": {
      "text/plain": [
       "Text(0, 0.5, 'Cumulative Stock Performance')"
      ]
     },
     "execution_count": 123,
     "metadata": {},
     "output_type": "execute_result"
    },
    {
     "data": {
      "image/png": "[encoded data removed]",
      "text/plain": [
       "<Figure size 432x288 with 1 Axes>"
      ]
     },
     "metadata": {},
     "output_type": "display_data"
    }
   ],
   "source": [
    "for i in comp.keys():\n",
    "    plt.plot(range(3),comp[i], linestyle = '--')\n",
    "plt.plot(range(3), BSE_TRENDList, color = 'b', label = 'BSE TREND')\n",
    "plt.plot(range(3), s_portList[1:], color = 'r', label = 'Portfolio')\n",
    "plt.legend()\n",
    "plt.xlabel('Time Period')\n",
    "plt.ylabel('Cumulative Stock Performance')"
   ]
  },
  {
   "cell_type": "markdown",
   "metadata": {},
   "source": [
    "From above graph it is clear that our portfolio outperforms BSE Trend in long run"
   ]
  },
  {
   "cell_type": "code",
   "execution_count": 1,
   "metadata": {},
   "outputs": [
    {
     "data": {
      "text/plain": [
       "'C:\\\\Users\\\\pushk\\\\Documents\\\\School\\\\IE 555\\\\Project'"
      ]
     },
     "execution_count": 1,
     "metadata": {},
     "output_type": "execute_result"
    }
   ],
   "source": [
    "pwd"
   ]
  },
  {
   "cell_type": "code",
   "execution_count": null,
   "metadata": {},
   "outputs": [],
   "source": []
  }
 ],
 "metadata": {
  "kernelspec": {
   "display_name": "Python 3",
   "language": "python",
   "name": "python3"
  },
  "language_info": {
   "codemirror_mode": {
    "name": "ipython",
    "version": 3
   },
   "file_extension": ".py",
   "mimetype": "text/x-python",
   "name": "python",
   "nbconvert_exporter": "python",
   "pygments_lexer": "ipython3",
   "version": "3.7.1"
  }
 },
 "nbformat": 4,
 "nbformat_minor": 2
}
